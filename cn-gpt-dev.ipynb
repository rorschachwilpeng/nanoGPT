{
 "cells": [
  {
   "metadata": {},
   "cell_type": "markdown",
   "source": "基于西游记训练一个nanoGPT",
   "id": "22d32c99824cb04c"
  },
  {
   "metadata": {},
   "cell_type": "markdown",
   "source": "## 读取数据集",
   "id": "27e59c68553d38bd"
  },
  {
   "metadata": {
    "ExecuteTime": {
     "end_time": "2024-09-04T09:21:56.468818Z",
     "start_time": "2024-09-04T09:21:56.458692Z"
    }
   },
   "cell_type": "code",
   "source": [
    "dir='./data/Xiyou.txt'\n",
    "with open(dir,'r',encoding='utf-8') as f:\n",
    "    text=f.read()"
   ],
   "id": "9082a92691c2cf19",
   "outputs": [],
   "execution_count": 89
  },
  {
   "metadata": {
    "ExecuteTime": {
     "end_time": "2024-09-04T09:21:56.501379Z",
     "start_time": "2024-09-04T09:21:56.498202Z"
    }
   },
   "cell_type": "code",
   "source": "print(f\"西游记全书字符串数量： {len(text)}\")",
   "id": "e85d85b334de4baf",
   "outputs": [
    {
     "name": "stdout",
     "output_type": "stream",
     "text": [
      "西游记全书字符串数量： 722142\n"
     ]
    }
   ],
   "execution_count": 90
  },
  {
   "metadata": {
    "ExecuteTime": {
     "end_time": "2024-09-04T09:21:56.551987Z",
     "start_time": "2024-09-04T09:21:56.503424Z"
    }
   },
   "cell_type": "code",
   "source": [
    "#here are the unique characters that occur in this text\n",
    "chars = sorted(list(set(text)))\n",
    "vocab_size = len(chars)\n",
    "print(''.join(chars))\n",
    "print(f'\\n西游记一共有 {vocab_size} 不同的字符')"
   ],
   "id": "c1570905f750e0f4",
   "outputs": [
    {
     "name": "stdout",
     "output_type": "stream",
     "text": [
      "\n",
      " \"()*+-.7:CQW[]^_acghijmnosuw{|īω—‘’“”…□　、。《》【】一丁七万丈三上下不与丑专且丕世丘丙业丛东丝丞丢两严丧个丫中丰串临丸丹为主丽举乃久么义之乌乍乎乏乐乒乓乔乖乘乙乜九乞也习乡书买乱乳乾了予争事二于亏云互五井亘亚些亡亢交亥亦产亨亩享京亭亮亲亵人亿什仁仃仅仆仇今介仍从仑仓仔他仗付仙仞代令以仪们仰仲仵件价任仿伉伊伍伏伐休众优伙会伞伟传伤伦伪伫伯估伴伶伸伺似伽佃但佇位低住佐佑体何余佛作佞你佣佥佩佯佳使侄侈例侍供依侠侣侥侧侪侮侯侵便促俄俊俎俏俐俗俚保俟信俦俨俪俫俭修俯俱俸俺倈倍倏倐倒倘候倚倜借倥倦倨倩债值倾偃假偈偌偎偏做停健偶偷偿傀傅傍傞傥储傩催傲傻像僚僝僧僭僮僵僻僽儒儡儾儿兀允元兄充兆先光克免兑兔兕党兜兢入全八公六兮兰共关兴兵其具典兹养兼兽冀内冈冉再冒冕冗写军农冠冢冤冥冬冯冰冲决况冷冻冽净凄准凉凋凌减凑凛凝几凡凤凫凭凯凰凳凶凸凹出击函凿刀刁刃分切刎刑划列刘则刚创初删判刨利别刬刮到刳制刷券刹刺刻刽剁剂剃削剌前剐剑剔剖剜剥剩剪副割剽剿劈劖劚力劝办功加务劣动助努劫劬劲劳势勅勇勉勋勒勘募勣勤勺勾勿匀包匆化北匙匝匠匡匣匹区医匾匿十千升午卉半华协卑卒卓单卖南博卜卞占卢卤卦卧卫卮卯印危即却卵卷卸卺卿厂厄厅历厉压厌厕厘厚原厢厦厨厮去县参叆叇又叉及友双反发叔取受变叙叛叟叠口古句另叨叩只叫召叭叮可台叱史右叵叶号司叹吁吃各吅吆合吉吊同名后吏吐向吒吓吕君吝吞吟吠否吧吩含听吮启吴吵吸吹吼吽吾呀呆呈告呐呕呖员呜呢呦周呱味呵呻呼命咀咂咄咆咇咋和咎咏咐咒咙咚咛咤咦咧咨咪咬咱咳咶咸咽咿哀品哂哃哄哇哈哉响哏哑哕哗哜哝哥哦哨哩哪哭哮哲哺哼哽唆唇唉唎唏唐唝唠唣唤唧唬唯唱唳唵唾唿啃啄啅商啈啊啐啕啖啭啮啯啸啻啼啾喁喂喃善喇喉喊喋喏喑喔喘喙喜喝喧喨喳喷嗅嗉嗒嗓嗔嗗嗛嗟嗣嗤嗳嗽嘈嘉嘎嘑嘘嘛嘤嘬嘱嘲嘴嘶嘹嘻噀噇噘噙噤器噪噫噬噹嚎嚏嚓嚣嚷嚼囊囒囔囚四回囟因团囫园困囱围囵固国图圃圆圈圊圜圞土圣在圩圭圯地场址坂均坊坎坏坐坑块坚坛坞坟坠坡坤坦坫坯垂垒垓垛垢垣垫埂埃埋城域埠培基堂堆堑堕堡堤堪堰堵塌塑塔塘塞填塵墀境墓墙增墟墨墩壁壅壑壤士壬壮声壳壶处备复夏夕外夙多夜够夤大天太夫夬夭央夯失头夷夸夹夺奁奇奈奉奋奎奏契奔奕奖套奘奠奢奥女奴奶奸好妁如妃妄妆妇妈妍妒妓妖妙妨妩妪妲妹妻妾姆姊始姌姐姑姓委姚姜姢姨姬姮姹姻姿威娃娄娆娇娉娑娘娜娟娥娩娱娲娶娼婆婚婢婪婴婵婷婿媒媚媳媸媾嫁嫂嫉嫌嫔嫖嫡嫣嫦嫩嫱嬉嬝孀子孔孕字存孙孛孜孝孟季孤学孩孰孺孽宁宅宇守安宋完宏宗官宙定宛宜宝实宠审客宣室宥宦宪宫宰害宴宵家宸容宽宾宿寂寄寅密寇富寐寒寓寝寞察寡寥寨寮寰寸对寺寻导寿封射将尉尊小少尔尖尘尚尝尤尧尪尬就尴尸尺尻尼尽尾尿局屁层居屈屉届屋屎屏屑展属屠屡屣履屯山屹岁岂岑岖岗岚岛岩岫岭岱岳岸峤峥峦峨峪峭峰峻崇崎崒崔崖崚崩嵂嵌嵎嵘嵩嵯嶂嶒嶝嶷巅巉巍川州巡巢工左巧巨巩巫差己已巳巴巷巽巾币市布帅师希帏帐帓帔帕帖帘帚帛帜帝带席帮帷常帽幄幅幌幔幕幛幡幢干平年并幸幻幼幽广庄庆庇床序庐庑库应底庖店庙庚府庞废度座庭庵庶康庸庾廉廊廓延廷建开弁异弃弄弈弊式弓引弘弟张弥弦弩弭弯弱弹强弼彀归当录彘形彤彩彪彭彰影役彻彼往征径待很徉徊律徐徒得徘徜御循徭微徵德心必忆忌忍忏忐忑忒忖志忘忙忝忠忤忧快念忻忽忿怀态怅怆怎怒怕怖怛怜思怠怡急性怨怪怯总恁恃恋恍恐恒恓恕恙恢恣恤恧恨恩恬恭息恰恳恶恹恻恼悄悉悔悖悚悟悠患悦悬悭悮悯悲悴情惊惑惚惜惟惠惧惨惩惫惭惮惯惰想惴惶惹惺愁愆愈愉愍意愕愚感愧愿慈慌慎慕慢慧慨慰慵慷慽憎憔憨憩懂懈懊懒懞懦懵懿戈戊戌戎戏成我戒戕或戗战戚戛戟截戮戳戴户房所扁扆扇扉手才扎扑扒打托扛扠扢扣执扫扬扭扮扯扰扳扶批找承抄抅抉把抑抒抓投抖抗折抚抛抟抠抢护报披抬抱抵抹押抽拂拄担拆拇拈拉拊拌拍拐拑拒拔拖拗拘拙拚招拜拟拢拣拥拦拧拨择括拭拯拱拳拴拶拷拽拾拿持挂指挈按挎挑挖挛挜挝挞挟挠挡挣挤挥挦挨挪挫振挹挺挽捆捉捋捍捎捏捐捕捘捞损捡换捣捧据捱捶捷捻捽掀掂掇授掉掌掏掐排掘掠探掣掤接控推掩措掬掭掮掯掳掷掼揉揌描提插揖揝揞握揣揩揪揫揭揲援揸揾搀搁搂搅搊搓搔搕搜搠搧搪搫搬搭搲搴携搽摄摆摇摊摔摘摧摩摸摺撇撑撒撞撤撩撬播撮撺撼擂擅操擎擒擞擢擦攀攒攘攥支收攸改攻放政故效敌敏救敕敖教敛敝敞敢散敦敧敬数敲整敷文斋斑斓斗料斛斜斝斟斤斧斩斫断斯新方施旁旃旄旅旋旌族旒旗无既日旦旧旨早旬旭旱时旷旺旻昂昆昊昌明昏易昔昙星映春昧昨昭是昴昼显晃晋晌晏晒晓晕晖晚晡晤晦晨普景晰晴晶智晾暂暄暇暑暖暗暧暨暮暴曙曛曜曰曲曳更書曹曼曾替最月有朋服朔朕朗望朝期朦木未末本札术朱朴朵机朽杀杂权杆杈杉杌李杏材村杓杖杜杞束杠条来杨杪杭杯杰杲杳杵杷杻松板极枇枉枋枒枓枕林枚果枝枢枣枪枫枭枯枰架枷枸柄柏某柑染柔柘柜柞查柩柬柮柯柰柱柳柴柿栅标栈栊栋栏树栓栖栗校株样核根格栽桂桃桅案桌桐桑桓桔桠桡桥桧桨桩桶梁梃梅梆梓梢梦梧梨梭梯械梳梵检棂棋棍棒棕棘棚棠棣棬森棱棵棹棺椅植椒椰椽椿楚楝楞楟楠楫楮楷楼概榄榆榇榔榛榜榧榴榻榾槁槃槅槌槎槐槛槟槺槽槿樊樗模樨横樯樱樵樽橄橐橘橙橦橹檀檄檎檐檠欠次欢欣欤欧欲欷欹欺款歇歉歌止正此步武歪歹死殁殃殄殊残殒殓殖殡段殷殿毁毂毋母每毒比毕毗毛毡毧毫毬毯氅氏氐民气氛氤氲水永汀汁求汉汊汗汛汝汞江池污汤汨汪汲汹汽汾沁沃沉沌沍沐沓沙沛沟没沤沥沦沧沫沱河沸油治沼沽沾沿泄泉泊泌泓法泗泛泞泠泡波泣泥注泪泫泯泰泱泻泼泽泾洁洋洒洗洛洞津洪洲活洼派流浅浆浇浊测浍济浑浓浙浦浩浪浮浴海浸浼涂涅消涉涌涎涓涕涛涝涤润涧涨涩涯液涴涵涸淄淅淇淋淌淘淙淡淤淫淬淮深淳混淹添清渊渍渎渐渔渗渚渠渡渣渤温渭港渰渴游渺湅湍湖湘湛湲湾湿溅源溜溟溢溪溲溶溺滂滉滋滑滔滚滞满滥滩滴漆漉漏漓演漕漠漩漫漱漷漾潇潘潜潠潦潭潮潺澄澌澜澡澳澹激濛濯瀑瀛瀼灌灒灞火灭灯灰灵灶灸灼灾灿炁炉炊炎炒炖炙炫炬炭炮炳炷炸点炼炽烁烂烈烘烙烛烟烤烦烧烨烫烬热烹焃焉焕焙焚焜焦焯焰然煅煌煎煞煠煤照煨煮煼煽熄熊熌熏熔熙熝熟熬熯熳燃燎燕燥燧爆爇爊爨爪爬爰爱爵父爷爹爻爽片版牌牒牖牙牛牟牡牢牧物牯牲牵牸特牺犀犁犊犒犬犭犯犴状犹犺犼狂狈狎狐狔狗狞狠狡狢狤狨独狭狮狰狱狲狸狻狼猁猊猍猎猕猖猛猜猢猥猩猪猫献猱猴猷猾猿獐獒獗獝獠獬獭獾玄率玉王玎玑玛玠玨玩玫环现玲玳玷玻珀珉珊珍珑珠珪班珮珰球琅理琉琐琗琚琢琥琪琮琳琴琵琶琼瑀瑁瑕瑙瑚瑜瑞瑟瑠瑰瑶璃璋璞璧瓜瓠瓢瓣瓦瓮瓯瓴瓶甘甚甜生甥用甫田由甲申电男画畅界畏畔留畜略畦番畴畿疆疏疑疗疙疤疥疮疯疲疴疸疼疾病症痈痊痒痕痖痛痞痨痫痰痴瘖瘟瘢瘦瘫瘴瘼癀癃癞癫癸登白百皂的皆皇皈皋皎皐皓皘皤皮皱皻皿盂盅盆盈益盏盐监盒盔盖盗盘盛盞盟目盱盲直相盹盼省眉看眙真眠眩眭眷眸眺眼着睁睆睍睖睛睡督睦睬睮睳睹睺瞅瞌瞎瞑瞒瞔瞥瞧瞬瞰瞻瞽矗矛矢矣知矧矩矫矬短矮石砂砌砍砑砖砚砥砧破砺砾硕硗硝硬碌碍碎碑碓碗碛碟碣碧碴確碾磁磊磐磕磨磬磲磴磷示礼社祀祇祈祐祖祗祚祛祝神祟祠祥票祭祯祷祸禀禁禄禅福禳禹禺离禽禾秀私秃秇秉秋种科秘租秤秦秧积称移秽秾稀程稍稔稚稠稳稷稻稼稽穑穗穰穴究穷穹空穿突窃窄窈窊窍窎窑窕窖窗窘窜窝窟窠窥窦窿立竖站竞竟章童竦竭端竹竺竿笃笄笆笊笋笏笑笔笙笛笞笠笤符第笼筇等筋筏筐筑筒答策筛筝筠筮筵筹签简箍箓箔箕算箝管箧箨箪箫箬箭箱箴箸篁篆篇篏篓篙篡篮篱篷篾簆簇簌簧簪簸簿籁籍籥米籴类粉粒粗粘粟粥粪粮粱粲粽精糊糕糖糙糜糟糠糯糰系紊素索紧紫累絮絯縺繁繨纠红纤纥约级纪纫纬纭纯纱纲纳纵纶纷纸纹纺纻纽线练细织终绊绍绎经绑绒结绔绕绘给绚绛络绝绞统绡绢绣绦继绩绪绫续绮绰绳维绵绶绷绸绺综绽绾绿缀缁缃缄缆缈缉缎缓缕编缘缚缝缟缠缢缤缥缨缩缪缭缯缰缴缸缺罄罍罐网罔罕罗罚罡罢罩罪置罴罾羁羊羌美羑羔羚羞羡群羲羸羹羽羿翁翅翊翎翔翕翘翛翠翡翥翩翮翰翱翳翻翼耀老考者而耍耐耕耗耘耙耨耳耶耸耻耽耿聆聊聋职聒联聘聚聪肃肆肉肋肌肐肓肖肘肚肝肠股肢肤肥肩肯肱育肴肺肾肿胀胁胃胄胆背胎胖胜胞胡胧胭胯胸能脂脆脉脊脏脐脑脓脚脯脱脸脾腆腊腋腌腐腑腔腕腥腭腮腰腹腻腼腾腿膀膂膊膏膘膛膜膝膨膭膳膻臀臁臂臊臣自臭至致臻臼臾舀舂舅舆舌舍舒舔舜舞舟航般舱舵船艇艎艮良艰色艳艺艾节芊芋芍芒芙芜芝芤芥芦芫芬芭芰花芳芹芽苇苋苍苏苑苓苔苗苞苟苡若苦苫英苹苾茂范茄茅茆茉茎茏茔茧茫茭茯茴茵茶茸荆荇草荐荒荔荙荜荞荠荡荣荤荧荫荬药荷荻荼荽莉莎莙莫莱莲莴获莹莺莽菁菂菇菊菑菔菖菘菜菠菡菩菰菱菲菽菾萄萌萍萏萝萤营萦萧萨萱萼落著葛葡董葩葫葬葭葱葵蒂蒙蒜蒭蒯蒲蒸蒹蒺蒿蓁蓄蓉蓍蓏蓑蓝蓦蓬蓼蔑蔓蔗蔬蔷蔼蔽蕃蕈蕉蕊蕖蕙蕨蕴薄薅薇薏薛薜薤薪薯薰藏藐藓藕藜藤藩藻藿蘋蘑蘛蘩蘸蘼虀虎虏虐虑虔虚虞虫虬虱虹虼虽虾蚁蚂蚊蚌蚓蚕蚣蚤蚯蛀蛆蛇蛋蛎蛏蛙蛛蛟蛤蛩蛭蛮蛰蛱蛾蜀蜂蜃蜇蜈蜋蜍蜓蜗蜘蜚蜜蜡蜢蜷蜻蜾蝇蝉蝎蝙蝠蝴蝶蝼螃融螭螺蟆蟋蟒蟟蟠蟭蟮蟹蟾蠃蠙蠢蠲血行衍衔衕街衙衠衡衢衣补表衫衬衰衲衷衽衾袁袂袄袅袈袋袍袒袖袛袜袢被袭袱裀裁裂装裆裔裘裙裟裤裩裰裳裸裹裾褊褐褒褛褡褥褪褭褴褶襕襟西要覆见观规觅视览觉觌觑角觔觜觞解觥触言詈誉誊誓警譬计订认讨让讪讫训议讯记讲讳讴讵讶许讹论讼讽设访诀证诂诃评识诈诉诊词诏译诓试诗诘诚诛话诞诡询诣该详诨诬语误诰诱诲诳说诵请诸诺读诽课谁调谄谅谆谈谊谋谎谏谐谒谓谕谗谙谛谜谢谣谤谦谨谩谪谬谯谱谲谴谵谶谷豁豆豇豕豚豝象豪豸豹豺貂貅貉貌貔贝贞负贡财责贤败货质贩贪贫贬贮贯贰贱贴贵费贺贻贼贽贾贿赁赃资赆赈赊赋赌赍赎赏赐赑赓赔赖赘赚赛赜赞赠赡赢赣赤赥赦赫赭走赴赵赶起趁趄超越趋趟趣趫趱足趷趾跃跄跋跌跎跑跘距跟跣跤跨跪跬路跳践跷跼踉踊踌踏踘踞踡踢踪踵蹄蹅蹈蹉蹊蹋蹍蹑蹙蹡蹬蹭蹱蹲蹴蹶蹻蹼躁躇躘躧身躬躯躲軃车轧轩转轮软轰轳轴轸轻载轿辂较辄辅辆辇辈辉辋辍辏辐输辔辕辖辘辛辜辞辟辣辨辩辰辱边达辿迁迅过迈迍迎运近迓返还这进远违连迟迢迤迥迦迩迫迭述迳迷迸迹追退送适逃逅逆选逊逍透逐递途逗通逝逞速造逢逭逶逸逻逼逾遁遂遇遍遏遐道遗遣遥遨遭遮遵遽避邀邂邃邅邑邓那邦邪邱邵邷邸邻郁郊郎郑郡部郭郸都鄂鄙鄱酆酉酊酌配酒酕酗酝酡酣酥酩酪酬酱酲酷酸酾酿醄醉醋醍醐醒醪醮醴醺采释里重野量金鉴銮鋘鍪鏖鐄鐏鑨针钉钏钓钗钝钞钟钢钤钥钦钧钩钮钯钱钳钵钹钺钻钿铁铃铄铅铇铊铎铙铛铜铠铣铩铭铲铳银铸铺链铿销锁锄锅锈锉锋锐错锚锟锡锢锣锤锥锦锭键锯锺锻镂镇镌镔镕镜镟镫镯镰镵镶长门闪闭问闯闰闱闲间闷闸闹闺闻闽闾阁阃阅阆阇阊阎阐阑阒阔阕阖阙阜队阡阮防阳阴阵阶阻阿陀附际陆陈陋陌降限陕陛陡院除险陪陲陵陶陷隅隆隋隍随隐隔隘隙障隶难雀雁雄雅集雇雉雌雍雏雒雕雨雪雳零雷雹雾需霁霄霆震霉霍霎霏霓霖霜霞霭露霸霹霾青靖静靛非靠靡面靦靴靸靼靿鞄鞋鞍鞑鞒鞘鞠鞦鞭韂韩韬韭音韵韶顶顷项顺须顽顾顿颁颂预颅领颇颈颉颏颐频颓颔颖颗题颜额颠颤颧风飒飕飖飘飞食餂餐餪饥饧饫饭饮饯饰饱饲饳饵饶饷饼饿馀馁馅馆馉馋馍馐馑馒馔馕首香馥馨駃駔駬駼騂騄騊騔騕騠马驮驯驰驱驴驷驸驹驻驼驽驾驿骁骂骄骅骆骇骈骊骋验骏骐骑骕骗骘骝骞骠骡骢骤骥骦骨骷骸髅髓高髭髯髻髽鬃鬅鬏鬓鬘鬟鬣鬼魀魁魂魄魅魇魈魉魍魏魑魔鮆鯾鱑鱨鱼鲁鲂鲅鲆鲇鲈鲊鲌鲍鲙鲜鲤鲥鲨鲫鲭鲮鲲鲳鲸鲻鳅鳌鳏鳖鳜鳝鳞鳠鳷鴏鷃鷫鸟鸡鸣鸥鸦鸨鸪鸬鸭鸯鸳鸶鸽鸾鸿鹁鹂鹃鹄鹅鹉鹊鹌鹏鹐鹑鹗鹚鹜鹞鹤鹥鹦鹧鹫鹭鹰鹳鹿麂麈麋麒麓麖麝麟麦麻麾黄黍黎黑默黛黠黯鼋鼍鼎鼓鼠鼻鼾齁齆齐齑齿龁龄龈龙龚龛龟！（）＋，．：；？ｗ￥�\n",
      "\n",
      "西游记一共有 4521 不同的字符\n"
     ]
    }
   ],
   "execution_count": 91
  },
  {
   "metadata": {},
   "cell_type": "markdown",
   "source": "为了方便只取一半的text来训练",
   "id": "3525394e9c4d6b19"
  },
  {
   "metadata": {
    "ExecuteTime": {
     "end_time": "2024-09-04T09:21:56.580100Z",
     "start_time": "2024-09-04T09:21:56.554101Z"
    }
   },
   "cell_type": "code",
   "source": [
    "n=int(0.5*len(text))\n",
    "text=text[:n]\n",
    "chars = sorted(list(set(text)))\n",
    "vocab_size = len(chars)\n",
    "print(''.join(chars))\n",
    "print(f'\\n一半西游记一共有 {vocab_size} 不同的字符')"
   ],
   "id": "9a8d0d2e22e0e735",
   "outputs": [
    {
     "name": "stdout",
     "output_type": "stream",
     "text": [
      "\n",
      " \"()*+.7:Q[]^_acghijmnosu|īω—‘’“”…□　、。《》【】一丁七万丈三上下不与丑专且丕世丘丙业丛东丝丞丢两严丧个丫中丰串临丸丹为主丽举乃久么义之乌乍乎乐乒乓乔乖乘乙九乞也习乡书买乱乳乾了予争事二于亏云五井亘亚些亡亢交亥亦产亩享京亭亮亲人亿什仁仃仅仆仇今介仍从仑仓仔他仗付仙仞代令以仪们仰仲仵件价任仿伉伊伍伏伐休众优伙会伞伟传伤伦伪伫伯估伴伶伸伺似伽但佇位低住佐佑体何余佛作佞你佣佩佯佳使侄侈例侍供依侣侥侧侮侯侵便促俊俏俐俗俚保俟信俨俫俭修俯俱俸俺倍倏倒倘候倚借倥倦倨倩债值倾假偈偌偎偏做停健偶偷偿傀傅傍储傩催傲傻像僧僭僮僵僻儒儡儿兀允元兄充先光克免兑兔兕党兜兢入全八公六兮兰共关兴兵其具典兹养兼兽内冉再冒冕写军农冠冤冥冬冰冲决况冷冻冽净凄准凉凋凌减凑凛凝几凡凤凭凯凰凳凶凸凹出击函凿刀刁刃分切刎刑划列刘则刚创初判刨利别刬刮到刳制刷券刹刺刻刽剁剂剃削剌前剐剑剔剖剜剥剩剪副割剿劈劖劚力劝办功加务劣动助努劫劬劳势勅勇勉勋勒勘募勣勤勾勿匀包化北匙匝匠匡匣匹区医匾十千升午卉半华协卑卒单卖南博卜卞占卢卤卦卧卫卮卯印危即却卵卷卸卿厄厅历厉压厌厕厘厚原厢厦厨厮去县参叆叇又叉及友双反发叔取受变叙叛叟叠口古句另叨叩只叫召叭叮可台叱史右叵叶号司叹吁吃各吅吆合吉吊同名后吏吐向吒吓吕君吞吟吠否吧吩含听启吴吵吸吹吼吽吾呀呆呈告呐呖员呢周味呵呻呼命咀咂咄咆咇咋和咎咏咐咒咙咛咤咦咧咨咪咬咱咳咶咸咽咿哀品哂哄哈哉响哏哑哗哜哝哥哦哨哩哪哭哮哺哼哽唆唇唉唏唐唠唣唤唧唬唯唱唳唵唾唿啃啄啅商啊啕啖啭啮啯啸啻啼喂善喇喉喊喋喏喑喘喙喜喝喧喨喳喷嗅嗉嗒嗔嗗嗟嗣嗤嗳嗽嘈嘉嘑嘘嘛嘤嘱嘲嘴嘶嘹嘻噀噇噙噤器噪噫噬噹嚎嚏嚓嚣嚷嚼囊囚四回囟因团囫园困围囵固国图圃圆圈圜圞土圣在圩圭圯地场坂均坊坎坏坐坑块坚坛坟坠坡坤坦坫坯垂垒垓垢垣垫埃埋城域埠培基堂堆堑堕堡堤堪堰塌塑塔塘塞填塵墀境墓墙增墨墩壁壅壑壤士壮声壳壶处备复夏夕外多夜够大天太夫夬夭央夯失头夷夸夹夺奁奇奈奉奋奎奏契奔奕奖套奘奠奢奥女奴奶奸好如妃妄妆妇妈妍妒妖妙妨妪妹妻妾姆姊始姐姑姓委姚姜姢姨姬姹姻姿威娃娄娆娇娘娥娩娱娲娶婆婚婢婪婴婿媒媚媳嫁嫂嫉嫌嫔嫡嫦嫩嬉孀子孔孕字存孙孜孝孟季孤学孩孺孽宁宅宇守安宋完宏宗官宙定宛宜宝实宠审客宣室宥宪宫宰害宴宵家容宽宾宿寂寄寅密寇富寐寒寓寝寞察寡寥寨寮寰寸对寺寻导寿封射将尉尊小少尔尖尘尚尝尧尪尬就尴尸尺尻尼尽尾尿局屁层居屈屉届屋屎屏屑展属屠屡屣履屯山屹岁岂岑岖岗岚岛岩岫岭岱岳岸峤峥峦峨峪峭峰峻崇崎崒崔崖崚崩嵂嵌嵘嵯嶂嶒嶝巅巉巍川州巡巢工左巧巨巩差己已巳巴巷巽巾币市布帅师希帏帐帓帔帕帖帘帚帛帝带席帮帷常帽幄幅幌幔幕幛幡幢干平年并幸幻幼幽广庄庆庇床序庐庑库应底庖店庙庚府庞废度座庭庵庶康庾廉廊廓延廷建开弁异弃弄弈弓引弘弟张弥弦弩弭弯弱弹强弼彀归当录彘形彤彩彪彭彰影役彻彼往征径待很徉律徐徒得徜御循徭微徵德心必忆忌忍忏忐忑忒忖志忘忙忝忠忤忧快念忻忽忿怀态怆怎怒怕怖怜思怠怡急性怨怪怯总恁恃恋恍恐恒恕恤恨恩恬恭息恰恳恶恻恼悄悉悔悖悚悟悠患悦悬悮悯悲悴情惊惑惚惜惟惠惧惨惩惫惭惯惰想惴惶惹惺愁愆愈愍意愕愚感愧愿慈慌慎慕慢慧慨慽憎憔憨憩懂懈懊懒懞懦懵懿戈戌戎戏成我戒或戗战戚戟截戳戴户房所扁扆扇扉手才扎扑扒打托扛扠扢扣执扫扬扭扮扯扰扳扶批找承抄抉把抓投抖抗折抚抛抟抠抢护报披抬抱抵抹押抽拂拄担拆拈拉拊拍拐拑拒拔拖拘拙拚招拜拟拢拣拥拦拨择拭拯拱拳拴拷拽拾拿持挂指挈按挎挑挖挛挝挟挠挡挣挤挥挦挨挪挫振挺挽捆捉捋捍捎捏捐捕捘捞损捡换捣捧据捱捶捻捽掀掇授掉掌掏掐排掘掠探掣接控推掩措掬掭掯掳掷掼揉揌描提插揖揝揣揩揪揭揲援揸揾搀搁搂搅搊搓搔搜搠搧搪搬搭搴携搽摄摆摇摊摔摘摧摩摸摺撇撑撒撞撤撩撬播撮撺撼擂擅操擎擒擞擢擦攀攒攘攥支收攸改攻放政故效敌敏救敕敖教敛敝敞敢散敦敧敬数敲整敷文斋斑斓斗料斛斜斝斟斤斧斩斫断斯新方施旁旄旅旋旌族旒旗无既日旦旧旨早旬旱时旷旺昂昆昊昌明昏易昔昙星映春昧昨昭是昴昼显晃晋晌晏晒晓晕晖晚晡晦晨普景晴晶智暂暇暑暖暗暧暨暮暴曙曜曰曲曳更書曹曼曾替最月有朋服朔朕朗望朝期朦木未末本札术朱朴朵机朽杀杂权杆杈杉杌李杏材村杖杜束条来杨杭杯杰杲杳杵杷杻松板极枇枉枒枓枕林枚果枝枢枣枪枫枭枯枰架枷柄柏某柑染柔柘柜查柩柬柮柯柰柱柳柴柿栅标栈栊栋栏树栓栖栗校株样核根格栽桂桃桅案桌桐桑桠桥桧桨桩桶梁梅梆梓梢梦梧梨梭梯械梳梵检棂棋棍棒棕棘棚棠棣棬森棱棵棹棺椅植椒椰椽椿楚楝楞楠楫楮楷楼概榆榇榔榛榜榧榴榻榾槁槃槅槎槐槛槟槺槽槿樊樗模樨横樱樵樽橘橙橦橹檀檄檎檐欠次欢欣欲欹欺款歇歉歌止正此步武歪歹死殃殄殊残殒殓殡段殷殿毁毂毋母每毒比毕毗毛毡毫毬氅氏氐民气氛氤氲水永汀汁求汉汗汝汞江池污汤汪汹汽汾沁沃沉沌沍沐沓沙沟没沤沥沦沧沫沱河油治沼沽沿泄泉泊泓法泛泞泡波泣泥注泪泯泰泱泻泼泽泾洁洋洒洗洛洞津洪洲活洼派流浅浆浇浊测济浑浓浙浦浩浪浮浴海浸浼涂涅消涉涌涎涓涕涛涤润涧涨涩涯液涵涸淄淅淋淌淘淙淡淫淬淮深淳混淹添清渊渎渐渔渗渚渡渣渤温渭港渰渴游渺湖湘湛湲湾湿溅源溜溟溪溶溺滂滋滑滔滚滞满滥滩滴漆漏漓演漠漫漱漷潇潘潜潦潭潮潺澄澜澡激濯瀑瀛瀼灌灒火灭灯灰灵灶灸灼灾灿炁炉炊炎炒炖炙炭炮炷炸点炼炽烁烂烈烘烛烟烦烧烨烫烬热烹焉焚焜焦焰然煅煌煎煞煠煤照煨煮煼煽熊熏熟熬熯燃燎燕燥燧爆爇爊爨爪爬爱爵父爷爹爻爽片牌牒牖牙牛牟牡牢物牯牲牵牸特犀犊犒犬犭犯状犹犺狂狈狎狐狔狗狞狠狡狢狤狨独狭狮狰狱狲狸狻狼猁猊猎猕猖猛猜猢猥猩猪猫献猴猷猾猿獐獒獗獝獠獾玄率玉王玑玛玠玩玫环现玲玳玷玻珊珍珑珠珪班珮球理琉琢琪琮琴琵琶琼瑀瑁瑕瑙瑚瑜瑞瑟瑰瑶璃璞璧瓜瓠瓢瓣瓦瓮瓯瓴瓶甘甚甜生甥用田由甲申电男画畅界畏畔留畜略番畿疆疏疑疙疤疥疮疯疲疴疸疼疾病症痒痕痖痛痞痨痫痴瘖瘟瘦瘫瘴癞癫癸登白百皂的皆皇皈皋皎皐皓皤皮皱皻皿盂盆盈益盏盐监盒盔盖盗盘盛盟目直相盹盼省眉看真眠眩眭眷眸眼着睁睆睖睛睡督睦睬睹瞅瞌瞎瞑瞒瞥瞧瞻瞽矗矛矢矣知矩矫矬短矮石砂砌砍砖砚砥砧破硝硬碌碍碎碑碓碗碛碟碣碧碾磁磊磕磨磬磲磴磷示礼社祀祇祈祐祖祗祚祛祝神祟祠祥票祭祯祷祸禀禁禄禅福禳禹禺离禽禾秀私秃秉秋种科秘租秤秦秧积称移秽秾稀程稍稔稚稳稷稻稽穗穴究穷穹空穿突窃窄窈窍窑窕窗窘窜窝窟窠窥窦窿立竖站竞竟章童竦竭端竹竺竿笃笄笆笊笋笏笑笔笙笛笠符第笼筇等筋筏筐筑筒答策筛筮筵筹简箍箓箕算箝管箨箫箬箭箱箴箸篁篆篇篏篙篡篮篱篷篾簆簇簌簧簪簸簿籁籍籥米籴类粉粒粗粘粟粥粮粱粲精糊糖糙糜糟糠糯糰系紊素索紧紫累絮縺繁繨纠红纤纥约级纪纬纯纱纲纳纵纶纷纸纹纺纻纽线练细织终绊经绑绒结绔绕给绛络绝绞统绡绢绣绦继绩绪绫续绮绰绳维绵绶绷绸综绽绾绿缀缁缃缄缆缈缉缎缓缕编缘缚缝缟缠缢缤缥缨缩缪缭缯缰缴缸缺罄罍罐网罔罕罗罚罡罢罩罪置罴罾羁羊美羑羔羚羞羡群羲羸羹羽翁翅翊翎翔翘翠翡翥翩翰翱翳翻翼耀老考者而耍耐耕耗耘耙耨耳耶耸耻耽耿聆聊聋职聒联聚聪肃肉肋肌肓肚肝肠股肢肤肥肩肯育肴肺肾肿胀胁胃胄胆背胎胖胜胞胡胧胭胯胸能脂脆脉脊脏脐脑脓脚脯脱脸脾腆腊腋腌腐腑腔腥腮腰腹腻腼腾腿膀膂膊膏膘膛膝膳膻臀臁臂臊臣自臭至致臻臾舀舂舅舆舌舍舒舔舜舞舟般舱船艇艮良艰色艳艺艾节芊芋芍芒芙芜芝芥芦芫芭花芳芹芽苇苋苍苏苑苓苔苗苞苟苡若苦苫英苹苾茂范茄茅茆茉茎茔茧茫茭茯茴茵茶茸荆荇草荐荒荔荙荜荡荣荤荧荫荬药荷荻荼荽莉莎莙莫莱莲获莺莽菁菂菇菊菘菜菠菡菩菱菲萄萌萍萏萝萤营萦萧萨萼落著葛葡葩葫葬葭葱蒂蒙蒜蒭蒲蒸蒹蒿蓄蓉蓍蓏蓑蓝蓬蓼蔑蔓蔗蔬蔼蔽蕈蕉蕊蕖蕙蕴薄薅薏薛薜薤薪薯薰藏藐藓藕藤藻蘋蘑蘸蘼虎虏虐虑虔虚虞虫虬虱虹虼虽虾蚁蚊蚌蚓蚕蚣蚤蚯蛀蛆蛇蛋蛎蛏蛙蛟蛤蛭蛮蛰蛱蛾蜀蜂蜃蜈蜓蜜蜡蜷蜻蜾蝇蝉蝴蝶蝼螃融螺蟆蟋蟒蟟蟠蟭蟮蟹蠢血行衔街衙衠衡衢衣补表衫衬衰衲衷衾袁袂袄袅袈袋袍袒袖袛袜袢被袭袱裀裁裂装裆裔裘裙裟裤裩裰裳裸裹褊褛褥褪褭褴褶襕襟西要覆见观规觅视览觉觌觑角觔觞解觥触言詈誉誓警譬计认讨让讪讫训议讯记讲讳讴讶许论讼讽设访诀证诃评识诈诉诊词诏试诗诘诚诛话诞诡询诣该详诨诬语误诱诲诳说诵请诸诺读课谁调谄谅谆谈谊谋谎谏谐谒谓谕谗谙谛谜谢谤谦谨谪谬谱谲谴谵谶谷豆豕豚豝象豪豹豺貂貉貌貔贝贞负贡财责贤败货质贩贪贫贬贯贱贴贵费贺贻贼贽贾贿赁赃资赈赊赋赌赍赎赏赐赑赔赖赘赚赛赞赠赡赢赤赦赫赭走赴赵赶起趁趄超越趋趟趣趫趱足趷跃跄跋跌跑跟跤跨跪跬路跳践跷跼踉踊踌踏踞踡踢踪踵蹄蹅蹈蹉蹊蹋蹍蹙蹡蹬蹭蹲蹶蹻躁躇躘躧身躬躯躲軃车轩转轮软轰轳轴轸轻载轿辂较辄辅辆辇辈辉辍辏辐输辔辕辖辘辛辞辟辣辨辩辰辱边达辿迁迅过迈迍迎运近迓返还这进远违连迟迢迤迥迦迩迫迭述迳迷迸迹追退送适逃逅逆选逊逍透逐递途逗通逝逞速造逢逶逸逻逼逾遁遂遇遍遏道遗遣遥遨遭遮遵遽避邀邂邅邓那邦邪邱邵邷邻郁郊郎郡部郭郸都鄂鄙酆酉酊酌配酒酕酡酣酥酩酪酬酱酲酸酾酿醄醉醋醍醐醒醪醮醴采释里重野量金鉴銮鋘鏖鐄针钉钏钓钗钝钞钟钢钤钥钦钧钩钮钯钱钳钵钹钺钻钿铁铃铄铅铊铜铠铣铲银铸铺链销锁锄锅锈锉锋锐错锚锟锡锢锣锤锥锦锭键锯锺锻镇镌镔镜镫镯镰镶长门闪闭问闯闰闱闲间闷闸闹闺闻闾阁阃阅阆阇阎阐阔阙阜队阡防阳阴阵阶阻阿陀附际陆陈陋陌降限陕陛陡院除险陪陵陶陷隅隆隍随隐隔障隶难雀雁雄雅集雇雉雌雍雏雒雕雨雪雳零雷雾霄霆震霎霓霖霜霞霭露霸霹霾青靖静靛非靠靡面靦靴靼靿鞋鞍鞑鞘鞠鞭韂韬韭音韵韶顶顷项顺须顽顾顿颁颂预领颇颈颏频颓颔颖颗题颜额颠颤颧风飒飕飖飘飞食餐饥饧饭饮饯饰饱饵饶饷饼饿馀馁馆馋馍馐馑馒馔馕首香馥馨駃駔駬駼騂騄騊騔騕騠马驮驯驰驱驴驷驸驻驼驽驾驿骁骂骅骆骇骈骊骋验骏骐骑骕骗骘骝骠骡骢骤骥骦骨骷骸髅髓高髭髯髻髽鬃鬅鬓鬘鬟鬣鬼魀魁魂魄魅魇魉魍魏魑魔鮆鯾鱑鱨鱼鲁鲂鲅鲆鲇鲈鲊鲌鲙鲜鲤鲥鲨鲫鲭鲳鲸鲻鳅鳌鳖鳜鳝鳞鳠鷫鸟鸡鸣鸥鸦鸨鸪鸭鸯鸳鸶鸽鸾鸿鹁鹂鹃鹄鹅鹉鹊鹏鹗鹚鹜鹞鹤鹥鹦鹧鹫鹭鹰鹳鹿麂麈麋麒麓麝麟麦麻麾黄黍黎黑默黛黯鼋鼍鼎鼓鼠鼻鼾齁齐齑齿龄龙龛龟！（）＋，．：；？ｗ￥�\n",
      "\n",
      "一半西游记一共有 4006 不同的字符\n"
     ]
    }
   ],
   "execution_count": 92
  },
  {
   "metadata": {},
   "cell_type": "markdown",
   "source": "取一半语料对字符损失不大，可以接受",
   "id": "f5935e77a2fdf2f7"
  },
  {
   "metadata": {},
   "cell_type": "markdown",
   "source": "## 分词器",
   "id": "f5deb1eb492794d3"
  },
  {
   "metadata": {
    "ExecuteTime": {
     "end_time": "2024-09-04T09:21:56.585335Z",
     "start_time": "2024-09-04T09:21:56.581333Z"
    }
   },
   "cell_type": "code",
   "source": [
    "###Tokenizers\n",
    "# create a mapping from characters to integers\n",
    "stoi = {ch: i for i, ch in enumerate(chars)}#str to idx\n",
    "itos = {i: ch for i, ch in enumerate(chars)}#idx to str\n",
    "encode = lambda s: [stoi[c] for c in s]\n",
    "decode = lambda l: ''.join(itos[c] for c in l)"
   ],
   "id": "bc40b9e8e86f4a51",
   "outputs": [],
   "execution_count": 93
  },
  {
   "metadata": {
    "ExecuteTime": {
     "end_time": "2024-09-04T09:21:56.590066Z",
     "start_time": "2024-09-04T09:21:56.587265Z"
    }
   },
   "cell_type": "code",
   "source": [
    "print(encode('孙悟空是齐天大圣'))\n",
    "print(decode(encode('孙悟空是齐天大圣')))"
   ],
   "id": "148e0b2443288eec",
   "outputs": [
    {
     "name": "stdout",
     "output_type": "stream",
     "text": [
      "[904, 1252, 2516, 1622, 3987, 805, 804, 727]\n",
      "孙悟空是齐天大圣\n"
     ]
    }
   ],
   "execution_count": 94
  },
  {
   "metadata": {},
   "cell_type": "markdown",
   "source": "## 训练，验证集划分",
   "id": "40ec5096b0149708"
  },
  {
   "metadata": {},
   "cell_type": "markdown",
   "source": "之所以要使用Torch，是因为我们训练这个东西是基于梯度优化来的。而当我们将每个变量转化成torch的Tensor变量，每一个Tensor会自带一个自己的梯度。",
   "id": "4b16be667491d8ec"
  },
  {
   "metadata": {
    "ExecuteTime": {
     "end_time": "2024-09-04T09:21:56.658582Z",
     "start_time": "2024-09-04T09:21:56.591241Z"
    }
   },
   "cell_type": "code",
   "source": [
    "import torch\n",
    "data = torch.tensor(encode(text),dtype=torch.long)#这两个参数是什么意思？#这个函数在干嘛？\n",
    "print(data.shape, data.dtype)\n",
    "# print(data[:1000])"
   ],
   "id": "c21f11ba6756ec5b",
   "outputs": [
    {
     "name": "stdout",
     "output_type": "stream",
     "text": [
      "torch.Size([361071]) torch.int64\n"
     ]
    }
   ],
   "execution_count": 95
  },
  {
   "metadata": {},
   "cell_type": "markdown",
   "source": "前90%为训练数据，后10%数据为测试数据",
   "id": "e6f929a7de861bab"
  },
  {
   "metadata": {
    "ExecuteTime": {
     "end_time": "2024-09-04T09:21:56.662752Z",
     "start_time": "2024-09-04T09:21:56.660145Z"
    }
   },
   "cell_type": "code",
   "source": [
    "n = int(0.9*len(data))\n",
    "train_data = data[:n]#训练集\n",
    "val_data = data[n:]#验证集"
   ],
   "id": "3aa9a040c3184d95",
   "outputs": [],
   "execution_count": 96
  },
  {
   "metadata": {},
   "cell_type": "markdown",
   "source": "## 模型参数配置",
   "id": "1957e8137bae6564"
  },
  {
   "metadata": {
    "ExecuteTime": {
     "end_time": "2024-09-04T09:21:56.666834Z",
     "start_time": "2024-09-04T09:21:56.663981Z"
    }
   },
   "cell_type": "code",
   "source": [
    "device = 'cpu'#模型运行设备\n",
    "block_size = 16#每个单元的最大长度(Sequence/Time Dimension)\n",
    "batch_size = 4#同时运行的批次大小\n",
    "vocab_size = vocab_size#前文已经获取该参数，指的是我们的训练语料中出现的词汇的数量的大小\n",
    "\n",
    "learning_rate = 0.3\n",
    "max_iters=1000\n",
    "\n",
    "eval_interval=300#对当前模型运行结果进行评估的epoch数量"
   ],
   "id": "2b784dbf6219d207",
   "outputs": [],
   "execution_count": 97
  },
  {
   "metadata": {},
   "cell_type": "markdown",
   "source": "### Batch的概念",
   "id": "47841aecc4e99dd5"
  },
  {
   "metadata": {},
   "cell_type": "markdown",
   "source": [
    "- Batch\n",
    "    -  在深度网络传播过程中，我们无法将所有的数据一次性加载到网络中\n",
    "    -  因此我们需要分批进行，也即每次执行一个batch大小的数据，而这里的batch大小我们称之为batch_size\n",
    "    -  在通常的任务中，我们一般通过构建Dataset和DataLoader来实现数据的分批次传入\n",
    "    - 但是nanoGPT作为致力于极简实现GPT的项目，选择自己谢get-batch操作\n",
    "    - 也是这个时候，我们引入模型参数的概念"
   ],
   "id": "61c115df2737019b"
  },
  {
   "metadata": {},
   "cell_type": "markdown",
   "source": [
    "get_batch()函数生成batch的逻辑：\n",
    "1. 在（0，len(data)-block_size）区间内，生成batch_size个随机数作为索引；\n",
    "2. 从抽取的索引处开始到索引+block_size个元素作为一个样本/序列/句子（这是为什么步骤1中需要减去“block_size”的原因，以避免索引越界）。将batch_size个样本拼接起来作为x\n",
    "3. 以步骤2相同逻辑生成样本y，只是y的元素相比x需要保持一个位置的偏置（整体右移一个token）"
   ],
   "id": "2ae83c9ffbd81386"
  },
  {
   "metadata": {
    "ExecuteTime": {
     "end_time": "2024-09-04T09:21:56.671025Z",
     "start_time": "2024-09-04T09:21:56.667758Z"
    }
   },
   "cell_type": "code",
   "source": [
    "def get_batch(split):\n",
    "    # generate a small batch of data of inputs x and targets y\n",
    "    data = train_data if split =='train' else val_data#输入训练数据/验证数据\n",
    "    ix = torch.randint(len(data) - block_size, (batch_size,))\n",
    "    x = torch.stack([data[i:i+block_size] for i in ix])\n",
    "    y = torch.stack([data[i+1:i+block_size+1] for i in ix])\n",
    "    return x, y"
   ],
   "id": "d16bda174ee03b4a",
   "outputs": [],
   "execution_count": 98
  },
  {
   "metadata": {},
   "cell_type": "markdown",
   "source": "## 模型部分",
   "id": "867d7ebb1f87917"
  },
  {
   "metadata": {},
   "cell_type": "markdown",
   "source": "### 关于nn.Embedding",
   "id": "390f9aeeab8d9347"
  },
  {
   "metadata": {},
   "cell_type": "markdown",
   "source": [
    "nn.Embedding转换逻辑：\n",
    "\n",
    "input -> one-hot -> logits（onehot过于绝对，logits能引入更多的信息）\n",
    "\n",
    "见下图"
   ],
   "id": "70e0b3b955fb1089"
  },
  {
   "metadata": {
    "ExecuteTime": {
     "end_time": "2024-09-04T09:21:56.676659Z",
     "start_time": "2024-09-04T09:21:56.672088Z"
    }
   },
   "cell_type": "code",
   "source": [
    "from IPython.display import Image \n",
    "Image(filename=\"./img/embedding.jpg\",width=400,height=400)"
   ],
   "id": "3cb3318ccf78949d",
   "outputs": [
    {
     "data": {
      "image/jpeg": "[encoded data removed]",
      "text/plain": [
       "<IPython.core.display.Image object>"
      ]
     },
     "execution_count": 99,
     "metadata": {
      "image/jpeg": {
       "width": 400,
       "height": 400
      }
     },
     "output_type": "execute_result"
    }
   ],
   "execution_count": 99
  },
  {
   "metadata": {},
   "cell_type": "markdown",
   "source": "### 二元预测模型",
   "id": "3afb3fc6cba931b6"
  },
  {
   "metadata": {
    "ExecuteTime": {
     "end_time": "2024-09-04T09:21:56.681730Z",
     "start_time": "2024-09-04T09:21:56.679287Z"
    }
   },
   "cell_type": "code",
   "source": [
    "import torch\n",
    "import torch.nn as nn\n",
    "from torch.nn import functional as F"
   ],
   "id": "de53b3c6a1d6614e",
   "outputs": [],
   "execution_count": 100
  },
  {
   "metadata": {},
   "cell_type": "markdown",
   "source": [
    "\n",
    "#### 重要变量解释\n",
    "\n",
    "*vocab_size*: 之前计算过的，语料库中所有的字符数量\n",
    "\n",
    "*idx*: 是我们之间的x的下标，\n",
    "\n",
    "*targets*:是之前的y,从而执行生成的过程\n",
    "\n",
    "*F.cross_entropy*: 交叉熵函数 (负对数似然损失(negative log likelihood loss)衡量损失或预测质量，它也在PyTorch中以交叉熵的名称实现)"
   ],
   "id": "eefc09a2dd4268bd"
  },
  {
   "metadata": {},
   "cell_type": "markdown",
   "source": [
    "#### 一些重要代码的大白话解释\n",
    "\n",
    "- forward()函数：\n",
    "\n",
    "\n",
    "    logits = self.token_embedding_table(idx)：Batch_size个样本集合，每个集合中有T个句子（样本）；现在通过embedding表（onehot + 矩阵乘法）将每个样本的token都转换成了高维词向量。\n",
    "    \n",
    "\n",
    "    logits = logits.view(B*T, C)：取消batch的概念，合并在一起。一个联想例子帮助理解：一开始学生都在教室里，后面是有活动，学生都到了操场上。\n",
    "    \n",
    "    loss = F.cross_entropy(logits, targets)：利用交叉熵评估预测分数和真实值之间的损失\n",
    "    \n",
    "\n",
    "- generate()函数\n",
    "\n",
    "\n",
    "    logits = logits[:, -1,:]\n",
    "    \n",
    "    这里我们只关注最后一个预测的原因：假如我们的x、y如下，那么我们其实只关注x是否能根据前文预测出最后一个字是“圣”，预测值（logits）中我们只关心最后一个词。\n",
    "    x: 孙悟空是齐天大\n",
    "    y:  悟空是齐天大圣\n",
    "    \n",
    "    因此对于logits（B,T,C），\n",
    "        B -> Batch Dimension\n",
    "        T -> Time Dimension（句子）\n",
    "        C -> Vocabulary（每个token词向量维度）\n",
    "    我们取每个预测句子中的最后一个token,即time dimension上只取最后一个元素，其他维度不变\n",
    "    \n",
    "    logits(B, T[-1], C) -> logtis(:,-1,:) \n",
    "    (B,T,C) -> (B,C)"
   ],
   "id": "a39d1e7232c3f7fe"
  },
  {
   "metadata": {
    "ExecuteTime": {
     "end_time": "2024-09-04T09:21:56.689929Z",
     "start_time": "2024-09-04T09:21:56.683530Z"
    }
   },
   "cell_type": "code",
   "source": [
    "class BLM(nn.Module):#BLM: short for BigramLanguageModel\n",
    "    def __init__(self, vocab_size):\n",
    "        super().__init__()\n",
    "        self.token_embedding_table = nn.Embedding(vocab_size, vocab_size)#建立embedding表\n",
    "        #输入的T为block_size，而预测的则是block_size+1，怎么做到的?\n",
    "    def forward(self, idx, targets=None):#前向传播函数\n",
    "        \n",
    "        logits = self.token_embedding_table(idx) #(B,T) ->（B,T,C) #这里我们通过Embedding的表，使得T --> T,C;即embedding中one-hot操作使得(b,s) -> (b,s,v)的操作。于此同时，我们是多个Batch一起并行的，所以矩阵形状为 (B,T) ---> (B,T,C)\n",
    "        #这里的预测分数过程与二分类或者多分类的分数是大致相同的\n",
    "        \n",
    "        if targets is None:\n",
    "            loss = None\n",
    "        else:   \n",
    "            #但是因为Pytorch对于cross_engropy的入参格式有要求，所以这里需要变换下维度\n",
    "            B,T,C = logits.shape\n",
    "            logits = logits.view(B*T, C)#合并第一、二维度\n",
    "            targets = targets.view(B*T)\n",
    "            loss = F.cross_entropy(logits, targets)\n",
    "        \n",
    "        return logits,loss\n",
    "    \n",
    "    def generate(self, idx, max_new_tokens):#generate函数的主要目的是利用训练好的模型进行文本生成\n",
    "        \"\"\"\n",
    "        generate函数的主要目的是利用训练好的模型进行文本生成\n",
    "        \n",
    "        Note:文本生成 != 文本预测；文本预测--->文本生成\n",
    "        \n",
    "        @param\n",
    "        idx:现在的输入的(B,T)序列，这里是之前我们提取的batch的下标\n",
    "        max_new_tokens：产生的最大的tokens数量\n",
    "        \"\"\"\n",
    "        # idx is (B,T) array of indices in the current context\n",
    "        for _ in range(max_new_tokens):\n",
    "            # 得到预测的结果\n",
    "            logits, loss = self(idx)\n",
    "            \n",
    "            # 关注最后一个的预测\n",
    "            logits = logits[:, -1,:]# becomes (B,C)\n",
    "            \n",
    "            # 对概率应用Softmax,将预测概率结果软化到01区间\n",
    "            probs = F.softmax(logits, dim=-1) #(B,C)\n",
    "            \n",
    "            # 对input的每一行做n_sample次取值，输出的张量是每一次取值时input张量对应行的下标，也即找到概率只输出最大的下标，也对应这最大的编码\n",
    "            idx_next = torch.multinomial(probs, num_samples=1) #(B,1)\n",
    "            # 将新产生的编码加入到之前的编码中，形成新的编码\n",
    "            idx = torch.cat((idx, idx_next), dim=1)\n",
    "        return idx   "
   ],
   "id": "cf57e37288a2ab76",
   "outputs": [],
   "execution_count": 101
  },
  {
   "metadata": {},
   "cell_type": "markdown",
   "source": [
    "### 训练方式\n",
    "\n",
    "炼丹范式：\n",
    "\n",
    "- 新建模型 -> 放到指定设备上 -> 设置优化器 -> 进行迭代 -> 梯度清零 -> 反向传播 -> 优化器迭代 -> 生成内容"
   ],
   "id": "dda65b1693ebb997"
  },
  {
   "metadata": {
    "ExecuteTime": {
     "end_time": "2024-09-04T09:35:01.315013Z",
     "start_time": "2024-09-04T09:35:01.308452Z"
    }
   },
   "cell_type": "code",
   "source": [
    "# 评估训练过程中，数据在训练集和验证集合上的损失\n",
    "@torch.no_grad()#上下文管理器,告诉PyTorch，我们不会调用.backward来处理此函数内部发生的所有事情（没懂）\n",
    "def estimate_loss():\n",
    "    out={}\n",
    "    model.eval()#评估阶段\n",
    "    eval_iters=200\n",
    "\n",
    "    # 通过平均计算batch平均，减少loss计算的噪音\n",
    "    for split in['train','val']:\n",
    "        losses=torch.zeros(eval_iters)#待检验，torch.zeros(..)会生成什么->一个长为eval_iters,值全为0的数组\n",
    "        for k in range(eval_iters):\n",
    "            X, y = get_batch(split)\n",
    "            logits, loss = model(X, y)\n",
    "            losses[k] = loss.item()\n",
    "        out[split] = losses.mean()\n",
    "\n",
    "    model.train()#训练阶段\n",
    "    return out"
   ],
   "id": "e867ad9971f7cbe5",
   "outputs": [],
   "execution_count": 116
  },
  {
   "metadata": {
    "ExecuteTime": {
     "end_time": "2024-09-04T09:35:01.303709Z",
     "start_time": "2024-09-04T09:32:05.119929Z"
    }
   },
   "cell_type": "code",
   "source": [
    "model = BLM(vocab_size)#新建模型\n",
    "m = model.to(device)#放到指定设备上\n",
    "optimizer = torch.optim.Adam(m.parameters(), lr=learning_rate)#设置优化器\n",
    "for steps in range(10000):#进行迭代\n",
    "    xb,yb=get_batch('train')\n",
    "    logits, loss = m(xb,yb)\n",
    "    optimizer.zero_grad(set_to_none=True)#梯度清零\n",
    "    if steps % eval_interval==0 or steps == max_iters-1:\n",
    "        losses = estimate_loss()\n",
    "        print(f\"step {steps}: train loss: {losses['train']:.4f}, val loss: {losses['val']:.4f}\")\n",
    "    loss.backward()#反向传播\n",
    "    optimizer.step()#优化器迭代\n",
    "\n",
    "print(loss.item())"
   ],
   "id": "f44661f97a9b9ae",
   "outputs": [
    {
     "name": "stdout",
     "output_type": "stream",
     "text": [
      "step 0: train loss: 8.7605, val loss: 8.7803\n",
      "step 300: train loss: 6.7559, val loss: 6.7566\n",
      "step 600: train loss: 6.5042, val loss: 6.8231\n",
      "step 900: train loss: 6.2674, val loss: 6.8897\n",
      "step 999: train loss: 6.3388, val loss: 6.7637\n",
      "step 1200: train loss: 6.1398, val loss: 6.7698\n",
      "step 1500: train loss: 6.0351, val loss: 6.8463\n",
      "step 1800: train loss: 6.1003, val loss: 6.8978\n",
      "step 2100: train loss: 6.1077, val loss: 7.1240\n",
      "step 2400: train loss: 6.1211, val loss: 7.0734\n",
      "step 2700: train loss: 5.9087, val loss: 7.0143\n",
      "step 3000: train loss: 5.9612, val loss: 7.0746\n",
      "step 3300: train loss: 5.8442, val loss: 7.1039\n",
      "step 3600: train loss: 5.8351, val loss: 7.2179\n",
      "step 3900: train loss: 5.9981, val loss: 7.2780\n",
      "step 4200: train loss: 5.8446, val loss: 7.2517\n",
      "step 4500: train loss: 5.8574, val loss: 7.1345\n",
      "step 4800: train loss: 5.7362, val loss: 7.2957\n",
      "step 5100: train loss: 5.7626, val loss: 7.2344\n",
      "step 5400: train loss: 5.7803, val loss: 7.3602\n",
      "step 5700: train loss: 5.6891, val loss: 7.2832\n",
      "step 6000: train loss: 5.8023, val loss: 7.3139\n",
      "step 6300: train loss: 5.7331, val loss: 7.4534\n",
      "step 6600: train loss: 5.8100, val loss: 7.3803\n",
      "step 6900: train loss: 5.6417, val loss: 7.4081\n",
      "step 7200: train loss: 5.6789, val loss: 7.5193\n",
      "step 7500: train loss: 5.6337, val loss: 7.4866\n",
      "step 7800: train loss: 5.7097, val loss: 7.4444\n",
      "step 8100: train loss: 5.6354, val loss: 7.4566\n",
      "step 8400: train loss: 5.5423, val loss: 7.5002\n",
      "step 8700: train loss: 5.6165, val loss: 7.4745\n",
      "step 9000: train loss: 5.5871, val loss: 7.4054\n",
      "step 9300: train loss: 5.5930, val loss: 7.5464\n",
      "step 9600: train loss: 5.6255, val loss: 7.5610\n",
      "step 9900: train loss: 5.5859, val loss: 7.6346\n",
      "5.478400230407715\n"
     ]
    }
   ],
   "execution_count": 115
  },
  {
   "metadata": {
    "ExecuteTime": {
     "end_time": "2024-09-04T09:43:41.418274Z",
     "start_time": "2024-09-04T09:43:41.313397Z"
    }
   },
   "cell_type": "code",
   "source": "print(decode(m.generate(idx = torch.zeros((1,1),dtype=torch.long),max_new_tokens=100)[0].tolist()))",
   "id": "59bae22c51e48fa2",
   "outputs": [
    {
     "name": "stdout",
     "output_type": "stream",
     "text": [
      "\n",
      "那洞天色丝衣服，走。那三藏闻得死。盖因贪三藏闻其言，化狂风欺天生愚顽，收伏倒的，行者与那里怎的私雨淙综大门里大张，跳在何处听宣扬大圣了脚，簇，就默念父来是一救沙僧推睡在天壤之上，分宾主道也顶受这五戒吊\n"
     ]
    }
   ],
   "execution_count": 122
  },
  {
   "metadata": {},
   "cell_type": "code",
   "outputs": [],
   "execution_count": null,
   "source": "",
   "id": "5856ce632065ebed"
  }
 ],
 "metadata": {
  "kernelspec": {
   "display_name": "Python 3",
   "language": "python",
   "name": "python3"
  },
  "language_info": {
   "codemirror_mode": {
    "name": "ipython",
    "version": 2
   },
   "file_extension": ".py",
   "mimetype": "text/x-python",
   "name": "python",
   "nbconvert_exporter": "python",
   "pygments_lexer": "ipython2",
   "version": "2.7.6"
  }
 },
 "nbformat": 4,
 "nbformat_minor": 5
}
