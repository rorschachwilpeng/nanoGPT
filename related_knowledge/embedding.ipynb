{
 "cells": [
  {
   "metadata": {},
   "cell_type": "markdown",
   "source": "# torch.nn.Embedding",
   "id": "80dc5180739963bb"
  },
  {
   "metadata": {},
   "cell_type": "markdown",
   "source": [
    "## Embedding的基础概念\n",
    "\n",
    "<span style=\"border: 1px solid #000; padding: 2px; box-shadow: 2px 2px 5px #000;\">embedding</span>是将词向量中的词映射为固定长度的词向量的技术，可以将one_hot出来的高纬度的稀疏的向量转化成低维的连续的向量\n"
   ],
   "id": "ee3ed80258694fbe"
  },
  {
   "metadata": {},
   "cell_type": "markdown",
   "source": "### Embedding的计算过程",
   "id": "76e232be4eaf432"
  },
  {
   "metadata": {},
   "cell_type": "markdown",
   "source": [
    "- embedding modulde的前向过程其实是一个索引（查表）的过程\n",
    "    - 表的形式是一个matrix （也即 embedding.weight,learnabel parameters）\n",
    "        - matrix.shape:(v, h)\n",
    "                \n",
    "                -  v: vocabulary size\n",
    "                        \n",
    "                -  h: hidden dimension\n",
    "    - 输入的形式：\n",
    "        - input.shape: (b, s)\n",
    "                \n",
    "                - b: batch size\n",
    "                        \n",
    "                - s: sequence sze\n",
    "                        \n",
    "    - **其中的关键问题就是 (b,s) 和 (v,h)怎么变成了 (b,s,h)**"
   ],
   "id": "8226787d75418eae"
  },
  {
   "metadata": {},
   "cell_type": "markdown",
   "source": [
    "输入：b,s\n",
    "\n",
    "\n",
    "\n",
    "过程：\n",
    "1. One-Hot：对于一个[batch_size, seq_length]的tensor，one_hot热编码将其转换成了[batch_size, seq_length, vocab_size]。\n",
    "\n",
    "\n",
    "\n",
    "2. 矩阵乘法：所以现在经过One-Hot后，输入矩阵形状从(b,s) --> (b,s,v)。然后我们利用 (b,s,v) @ (v,h)；这里pytorch会自动补全第二个矩阵，即将其形状转变为 (b, v, h)。所以我们用 (b,s,v) @ (b,v,h) --> (b, s, h)\n",
    "\n",
    "\n",
    "输出：b, s, h"
   ],
   "id": "311342da7e840337"
  },
  {
   "metadata": {},
   "cell_type": "code",
   "outputs": [],
   "execution_count": null,
   "source": "",
   "id": "403a1a165d6c558d"
  }
 ],
 "metadata": {
  "kernelspec": {
   "display_name": "Python 3",
   "language": "python",
   "name": "python3"
  },
  "language_info": {
   "codemirror_mode": {
    "name": "ipython",
    "version": 2
   },
   "file_extension": ".py",
   "mimetype": "text/x-python",
   "name": "python",
   "nbconvert_exporter": "python",
   "pygments_lexer": "ipython2",
   "version": "2.7.6"
  }
 },
 "nbformat": 4,
 "nbformat_minor": 5
}
